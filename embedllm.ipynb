{
 "cells": [
  {
   "cell_type": "code",
   "execution_count": 4,
   "metadata": {},
   "outputs": [
    {
     "name": "stdout",
     "output_type": "stream",
     "text": [
      "Loading dataset...\n"
     ]
    },
    {
     "name": "stderr",
     "output_type": "stream",
     "text": [
      "C:\\Users\\21296\\AppData\\Local\\Temp\\ipykernel_92556\\2340557213.py:169: FutureWarning: You are using `torch.load` with `weights_only=False` (the current default value), which uses the default pickle module implicitly. It is possible to construct malicious pickle data which will execute arbitrary code during unpickling (See https://github.com/pytorch/pytorch/blob/main/SECURITY.md#untrusted-models for more details). In a future release, the default value for `weights_only` will be flipped to `True`. This limits the functions that could be executed during unpickling. Arbitrary objects will no longer be allowed to be loaded via this mode unless they are explicitly allowlisted by the user via `torch.serialization.add_safe_globals`. We recommend you start setting `weights_only=True` for any use case where you don't have full control of the loaded file. Please open an issue on GitHub for any issues related to this experimental feature.\n",
      "  question_embeddings = torch.load(args.question_embedding_path)\n"
     ]
    },
    {
     "name": "stdout",
     "output_type": "stream",
     "text": [
      "Initializing model...\n",
      "Training model...\n"
     ]
    },
    {
     "name": "stderr",
     "output_type": "stream",
     "text": []
    },
    {
     "name": "stdout",
     "output_type": "stream",
     "text": [
      "Epoch 1/50, Train Loss: 0.6762879089968727\n"
     ]
    },
    {
     "name": "stderr",
     "output_type": "stream",
     "text": []
    },
    {
     "name": "stdout",
     "output_type": "stream",
     "text": [
      "Test Loss: 0.6474284955286161, Test Accuracy: 0.6350559033068401\n",
      "Epoch 2/50, Train Loss: 0.6434537410032218\n"
     ]
    },
    {
     "name": "stderr",
     "output_type": "stream",
     "text": []
    },
    {
     "name": "stdout",
     "output_type": "stream",
     "text": [
      "Test Loss: 0.6255477968424955, Test Accuracy: 0.6510187167977598\n",
      "Epoch 3/50, Train Loss: 0.6247365225388424\n"
     ]
    },
    {
     "name": "stderr",
     "output_type": "stream",
     "text": []
    },
    {
     "name": "stdout",
     "output_type": "stream",
     "text": [
      "Test Loss: 0.6079742108970931, Test Accuracy: 0.6711279495943664\n",
      "Epoch 4/50, Train Loss: 0.609402252416168\n"
     ]
    },
    {
     "name": "stderr",
     "output_type": "stream",
     "text": []
    },
    {
     "name": "stdout",
     "output_type": "stream",
     "text": [
      "Test Loss: 0.5937827536445451, Test Accuracy: 0.6865862949388462\n",
      "Epoch 5/50, Train Loss: 0.5970634579242587\n"
     ]
    },
    {
     "name": "stderr",
     "output_type": "stream",
     "text": []
    },
    {
     "name": "stdout",
     "output_type": "stream",
     "text": [
      "Test Loss: 0.5827348188577706, Test Accuracy: 0.6986986780875509\n",
      "Epoch 6/50, Train Loss: 0.5876314163216007\n"
     ]
    },
    {
     "name": "stderr",
     "output_type": "stream",
     "text": []
    },
    {
     "name": "stdout",
     "output_type": "stream",
     "text": [
      "Test Loss: 0.5747202365150886, Test Accuracy: 0.7073930321624181\n",
      "Epoch 7/50, Train Loss: 0.5805213826114108\n"
     ]
    },
    {
     "name": "stderr",
     "output_type": "stream",
     "text": []
    },
    {
     "name": "stdout",
     "output_type": "stream",
     "text": [
      "Test Loss: 0.5690599276658873, Test Accuracy: 0.7138121319441585\n",
      "Epoch 8/50, Train Loss: 0.575341832222666\n"
     ]
    },
    {
     "name": "stderr",
     "output_type": "stream",
     "text": []
    },
    {
     "name": "stdout",
     "output_type": "stream",
     "text": [
      "Test Loss: 0.5647261700117475, Test Accuracy: 0.7183883787011489\n",
      "Epoch 9/50, Train Loss: 0.5714738889568862\n"
     ]
    },
    {
     "name": "stderr",
     "output_type": "stream",
     "text": []
    },
    {
     "name": "stdout",
     "output_type": "stream",
     "text": [
      "Test Loss: 0.5614229027975461, Test Accuracy: 0.7216957336408186\n",
      "Epoch 10/50, Train Loss: 0.5686679466643035\n"
     ]
    },
    {
     "name": "stderr",
     "output_type": "stream",
     "text": []
    },
    {
     "name": "stdout",
     "output_type": "stream",
     "text": [
      "Test Loss: 0.5593264401904029, Test Accuracy: 0.72428241979986\n",
      "Epoch 11/50, Train Loss: 0.566294658291231\n"
     ]
    },
    {
     "name": "stderr",
     "output_type": "stream",
     "text": []
    },
    {
     "name": "stdout",
     "output_type": "stream",
     "text": [
      "Test Loss: 0.5579921871807864, Test Accuracy: 0.7261175513733887\n",
      "Epoch 12/50, Train Loss: 0.5649243101789564\n"
     ]
    },
    {
     "name": "stderr",
     "output_type": "stream",
     "text": []
    },
    {
     "name": "stdout",
     "output_type": "stream",
     "text": [
      "Test Loss: 0.5565771379310983, Test Accuracy: 0.7277570728493185\n",
      "Epoch 13/50, Train Loss: 0.5636633304250189\n"
     ]
    },
    {
     "name": "stderr",
     "output_type": "stream",
     "text": []
    },
    {
     "name": "stdout",
     "output_type": "stream",
     "text": [
      "Test Loss: 0.5555766776086903, Test Accuracy: 0.7289744883251658\n",
      "Epoch 14/50, Train Loss: 0.5628745317423113\n"
     ]
    },
    {
     "name": "stderr",
     "output_type": "stream",
     "text": []
    },
    {
     "name": "stdout",
     "output_type": "stream",
     "text": [
      "Test Loss: 0.5549774452689864, Test Accuracy: 0.729641106947247\n",
      "Epoch 15/50, Train Loss: 0.5621980420137309\n"
     ]
    },
    {
     "name": "stderr",
     "output_type": "stream",
     "text": []
    },
    {
     "name": "stdout",
     "output_type": "stream",
     "text": [
      "Test Loss: 0.5550406726626181, Test Accuracy: 0.73016873944735\n",
      "Epoch 16/50, Train Loss: 0.5616287498010529\n"
     ]
    },
    {
     "name": "stderr",
     "output_type": "stream",
     "text": []
    },
    {
     "name": "stdout",
     "output_type": "stream",
     "text": [
      "Test Loss: 0.5544893709108984, Test Accuracy: 0.7305110571181485\n",
      "Epoch 17/50, Train Loss: 0.5612606944509303\n"
     ]
    },
    {
     "name": "stderr",
     "output_type": "stream",
     "text": []
    },
    {
     "name": "stdout",
     "output_type": "stream",
     "text": [
      "Test Loss: 0.5540888555035267, Test Accuracy: 0.730979491825557\n",
      "Epoch 18/50, Train Loss: 0.5609369792436089\n"
     ]
    },
    {
     "name": "stderr",
     "output_type": "stream",
     "text": []
    },
    {
     "name": "stdout",
     "output_type": "stream",
     "text": [
      "Test Loss: 0.5536369839310769, Test Accuracy: 0.7311982662768192\n",
      "Epoch 19/50, Train Loss: 0.5606305065154389\n"
     ]
    },
    {
     "name": "stderr",
     "output_type": "stream",
     "text": []
    },
    {
     "name": "stdout",
     "output_type": "stream",
     "text": [
      "Test Loss: 0.5532011798641383, Test Accuracy: 0.7314839599719969\n",
      "Epoch 20/50, Train Loss: 0.5605250936655415\n"
     ]
    },
    {
     "name": "stderr",
     "output_type": "stream",
     "text": []
    },
    {
     "name": "stdout",
     "output_type": "stream",
     "text": [
      "Test Loss: 0.5536361672028685, Test Accuracy: 0.7317748013013219\n",
      "Epoch 21/50, Train Loss: 0.5603049891154516\n"
     ]
    },
    {
     "name": "stderr",
     "output_type": "stream",
     "text": []
    },
    {
     "name": "stdout",
     "output_type": "stream",
     "text": [
      "Test Loss: 0.55338346483444, Test Accuracy: 0.7319601161306264\n",
      "Epoch 22/50, Train Loss: 0.5600986965040622\n"
     ]
    },
    {
     "name": "stderr",
     "output_type": "stream",
     "text": []
    },
    {
     "name": "stdout",
     "output_type": "stream",
     "text": [
      "Test Loss: 0.5527947087345438, Test Accuracy: 0.7321866120331095\n",
      "Epoch 23/50, Train Loss: 0.5600409645625198\n"
     ]
    },
    {
     "name": "stderr",
     "output_type": "stream",
     "text": []
    },
    {
     "name": "stdout",
     "output_type": "stream",
     "text": [
      "Test Loss: 0.5533968988274132, Test Accuracy: 0.7324414199234032\n",
      "Epoch 24/50, Train Loss: 0.5598665665649177\n"
     ]
    },
    {
     "name": "stderr",
     "output_type": "stream",
     "text": []
    },
    {
     "name": "stdout",
     "output_type": "stream",
     "text": [
      "Test Loss: 0.5535178170174512, Test Accuracy: 0.7324517151916979\n",
      "Epoch 25/50, Train Loss: 0.5597555725342858\n"
     ]
    },
    {
     "name": "stderr",
     "output_type": "stream",
     "text": []
    },
    {
     "name": "stdout",
     "output_type": "stream",
     "text": [
      "Test Loss: 0.5528820510535618, Test Accuracy: 0.7325932751307499\n",
      "Epoch 26/50, Train Loss: 0.5595726559675482\n"
     ]
    },
    {
     "name": "stderr",
     "output_type": "stream",
     "text": []
    },
    {
     "name": "stdout",
     "output_type": "stream",
     "text": [
      "Test Loss: 0.5528167368321709, Test Accuracy: 0.7325932751307499\n",
      "Epoch 27/50, Train Loss: 0.5595055115931596\n"
     ]
    },
    {
     "name": "stderr",
     "output_type": "stream",
     "text": []
    },
    {
     "name": "stdout",
     "output_type": "stream",
     "text": [
      "Test Loss: 0.5529616576258661, Test Accuracy: 0.7326962278136968\n",
      "Epoch 28/50, Train Loss: 0.559521394347351\n"
     ]
    },
    {
     "name": "stderr",
     "output_type": "stream",
     "text": []
    },
    {
     "name": "stdout",
     "output_type": "stream",
     "text": [
      "Test Loss: 0.5526350156698207, Test Accuracy: 0.7328789688259276\n",
      "Epoch 29/50, Train Loss: 0.559272213316594\n"
     ]
    },
    {
     "name": "stderr",
     "output_type": "stream",
     "text": []
    },
    {
     "name": "stdout",
     "output_type": "stream",
     "text": [
      "Test Loss: 0.5527886876614969, Test Accuracy: 0.7329381666186221\n",
      "Epoch 30/50, Train Loss: 0.5592880370040383\n"
     ]
    },
    {
     "name": "stderr",
     "output_type": "stream",
     "text": []
    },
    {
     "name": "stdout",
     "output_type": "stream",
     "text": [
      "Test Loss: 0.5531709628055482, Test Accuracy: 0.7330668574723057\n",
      "Epoch 31/50, Train Loss: 0.5592431642167106\n"
     ]
    },
    {
     "name": "stderr",
     "output_type": "stream",
     "text": []
    },
    {
     "name": "stdout",
     "output_type": "stream",
     "text": [
      "Test Loss: 0.5526194224290644, Test Accuracy: 0.7331106123625581\n",
      "Epoch 32/50, Train Loss: 0.5592394346132339\n"
     ]
    },
    {
     "name": "stderr",
     "output_type": "stream",
     "text": []
    },
    {
     "name": "stdout",
     "output_type": "stream",
     "text": [
      "Test Loss: 0.5524753232334707, Test Accuracy: 0.7331209076308529\n",
      "Epoch 33/50, Train Loss: 0.5590785770180625\n"
     ]
    },
    {
     "name": "stderr",
     "output_type": "stream",
     "text": []
    },
    {
     "name": "stdout",
     "output_type": "stream",
     "text": [
      "Test Loss: 0.5528595395797669, Test Accuracy: 0.7331106123625581\n",
      "Epoch 34/50, Train Loss: 0.5590265284997765\n"
     ]
    },
    {
     "name": "stderr",
     "output_type": "stream",
     "text": []
    },
    {
     "name": "stdout",
     "output_type": "stream",
     "text": [
      "Test Loss: 0.5524744730443836, Test Accuracy: 0.733182679240621\n",
      "Epoch 35/50, Train Loss: 0.5591408219738347\n"
     ]
    },
    {
     "name": "stderr",
     "output_type": "stream",
     "text": []
    },
    {
     "name": "stdout",
     "output_type": "stream",
     "text": [
      "Test Loss: 0.552412824595784, Test Accuracy: 0.7331801054235474\n",
      "Epoch 36/50, Train Loss: 0.5591138136251698\n"
     ]
    },
    {
     "name": "stderr",
     "output_type": "stream",
     "text": []
    },
    {
     "name": "stdout",
     "output_type": "stream",
     "text": [
      "Test Loss: 0.5523948298693342, Test Accuracy: 0.7331517934357369\n",
      "Epoch 37/50, Train Loss: 0.5590246870325927\n"
     ]
    },
    {
     "name": "stderr",
     "output_type": "stream",
     "text": []
    },
    {
     "name": "stdout",
     "output_type": "stream",
     "text": [
      "Test Loss: 0.5526748017542534, Test Accuracy: 0.7332856319235679\n",
      "Epoch 38/50, Train Loss: 0.5589386517810873\n"
     ]
    },
    {
     "name": "stderr",
     "output_type": "stream",
     "text": []
    },
    {
     "name": "stdout",
     "output_type": "stream",
     "text": [
      "Test Loss: 0.552393742940603, Test Accuracy: 0.7332959271918627\n",
      "Epoch 39/50, Train Loss: 0.559018915132192\n"
     ]
    },
    {
     "name": "stderr",
     "output_type": "stream",
     "text": []
    },
    {
     "name": "stdout",
     "output_type": "stream",
     "text": [
      "Test Loss: 0.5523358532640444, Test Accuracy: 0.7333911584235885\n",
      "Epoch 40/50, Train Loss: 0.5589705215915998\n"
     ]
    },
    {
     "name": "stderr",
     "output_type": "stream",
     "text": []
    },
    {
     "name": "stdout",
     "output_type": "stream",
     "text": [
      "Test Loss: 0.5523577852205552, Test Accuracy: 0.7333628464357781\n",
      "Epoch 41/50, Train Loss: 0.5589518952120938\n"
     ]
    },
    {
     "name": "stderr",
     "output_type": "stream",
     "text": []
    },
    {
     "name": "stdout",
     "output_type": "stream",
     "text": [
      "Test Loss: 0.5525391213471604, Test Accuracy: 0.733450356216283\n",
      "Epoch 42/50, Train Loss: 0.5589167899979549\n"
     ]
    },
    {
     "name": "stderr",
     "output_type": "stream",
     "text": []
    },
    {
     "name": "stdout",
     "output_type": "stream",
     "text": [
      "Test Loss: 0.5524609224881617, Test Accuracy: 0.7335121278260511\n",
      "Epoch 43/50, Train Loss: 0.5588229959885631\n"
     ]
    },
    {
     "name": "stderr",
     "output_type": "stream",
     "text": []
    },
    {
     "name": "stdout",
     "output_type": "stream",
     "text": [
      "Test Loss: 0.5525541160623397, Test Accuracy: 0.7335198492772722\n",
      "Epoch 44/50, Train Loss: 0.5587898035540225\n"
     ]
    },
    {
     "name": "stderr",
     "output_type": "stream",
     "text": []
    },
    {
     "name": "stdout",
     "output_type": "stream",
     "text": [
      "Test Loss: 0.5523667381263685, Test Accuracy: 0.7334838158382407\n",
      "Epoch 45/50, Train Loss: 0.5587628871858344\n"
     ]
    },
    {
     "name": "stderr",
     "output_type": "stream",
     "text": []
    },
    {
     "name": "stdout",
     "output_type": "stream",
     "text": [
      "Test Loss: 0.5525770944175034, Test Accuracy: 0.7335301445455669\n",
      "Epoch 46/50, Train Loss: 0.5587521786239125\n"
     ]
    },
    {
     "name": "stderr",
     "output_type": "stream",
     "text": []
    },
    {
     "name": "stdout",
     "output_type": "stream",
     "text": [
      "Test Loss: 0.5522969494157375, Test Accuracy: 0.7335404398138615\n",
      "Epoch 47/50, Train Loss: 0.5587277928976141\n"
     ]
    },
    {
     "name": "stderr",
     "output_type": "stream",
     "text": []
    },
    {
     "name": "stdout",
     "output_type": "stream",
     "text": [
      "Test Loss: 0.5526786153518657, Test Accuracy: 0.73342719186262\n",
      "Epoch 48/50, Train Loss: 0.558720946115988\n"
     ]
    },
    {
     "name": "stderr",
     "output_type": "stream",
     "text": []
    },
    {
     "name": "stdout",
     "output_type": "stream",
     "text": [
      "Test Loss: 0.5526795536703094, Test Accuracy: 0.7335430136309352\n",
      "Epoch 49/50, Train Loss: 0.5586703493411318\n"
     ]
    },
    {
     "name": "stderr",
     "output_type": "stream",
     "text": []
    },
    {
     "name": "stdout",
     "output_type": "stream",
     "text": [
      "Test Loss: 0.5524839638377494, Test Accuracy: 0.7335404398138615\n",
      "Epoch 50/50, Train Loss: 0.5587358072188133\n"
     ]
    },
    {
     "name": "stderr",
     "output_type": "stream",
     "text": []
    },
    {
     "name": "stdout",
     "output_type": "stream",
     "text": [
      "Test Loss: 0.5525112900649314, Test Accuracy: 0.7335404398138615\n"
     ]
    },
    {
     "name": "stderr",
     "output_type": "stream",
     "text": [
      "100%|██████████| 50/50 [4:35:57<00:00, 331.14s/it, test_acc=0.734, test_loss=0.553, train_loss=0.559]"
     ]
    },
    {
     "name": "stdout",
     "output_type": "stream",
     "text": [
      "Model saved to data/saved_model.pth\n"
     ]
    },
    {
     "name": "stderr",
     "output_type": "stream",
     "text": [
      "\n"
     ]
    }
   ],
   "source": [
    "import argparse\n",
    "import random\n",
    "import torch\n",
    "import pandas as pd\n",
    "import numpy as np\n",
    "from torch import nn\n",
    "from torch.utils.data import DataLoader, Dataset, TensorDataset\n",
    "from torch.optim import Adam\n",
    "from tqdm import tqdm\n",
    "\n",
    "# Set seeds for reproducibility\n",
    "torch.manual_seed(42)\n",
    "np.random.seed(42)\n",
    "random.seed(42)\n",
    "\n",
    "# Helper functions to load and process the data into desired format needed for MF\n",
    "# For MF we need a \"model ID\" either in the form of name or index and so we use the tabular data instead of tensors\n",
    "def load_and_process_data(train_data, test_data, batch_size=64):\n",
    "    # NOTE: Due to the nature of the embedding layer we need to take max prompt ID from both train and test data\n",
    "    # But during training we won't be using test question\n",
    "    num_prompts = int(max(max(train_data[\"prompt_id\"]), max(test_data[\"prompt_id\"]))) + 1\n",
    "    class CustomDataset(Dataset):\n",
    "        def __init__(self, data):\n",
    "            model_ids = torch.tensor(data[\"model_id\"], dtype=torch.int64)\n",
    "            unique_ids, inverse_indices = torch.unique(model_ids, sorted=True, return_inverse=True)\n",
    "            id_to_rank = {id.item(): rank for rank, id in enumerate(unique_ids)}\n",
    "            ranked_model_ids = torch.tensor([id_to_rank[id.item()] for id in model_ids])\n",
    "            self.models = ranked_model_ids\n",
    "            self.prompts = torch.tensor(data[\"prompt_id\"], dtype=torch.int64)\n",
    "            self.labels = torch.tensor(data[\"label\"], dtype=torch.int64)\n",
    "            self.num_models = len(data[\"model_id\"].unique())\n",
    "            self.num_prompts = num_prompts\n",
    "            self.num_classes = len(data[\"label\"].unique())\n",
    "\n",
    "        def get_num_models(self):\n",
    "            return self.num_models\n",
    "\n",
    "        def get_num_prompts(self):\n",
    "            return self.num_prompts\n",
    "\n",
    "        def get_num_classes(self):\n",
    "            return self.num_classes\n",
    "\n",
    "        def __len__(self):\n",
    "            return len(self.models)\n",
    "\n",
    "        def __getitem__(self, index):\n",
    "            return self.models[index], self.prompts[index], self.labels[index]\n",
    "\n",
    "        def get_dataloaders(self, batch_size):\n",
    "            return DataLoader(self, batch_size, shuffle=False)\n",
    "\n",
    "    train_dataset = CustomDataset(train_data)\n",
    "    test_dataset = CustomDataset(test_data)\n",
    "\n",
    "    train_loader = train_dataset.get_dataloaders(batch_size)\n",
    "    test_loader = test_dataset.get_dataloaders(batch_size)\n",
    "\n",
    "    return train_loader, test_loader\n",
    "\n",
    "class TextMF(nn.Module):\n",
    "    def __init__(self, question_embeddings, model_embedding_dim, alpha, num_models, num_prompts, text_dim=768, num_classes=2):\n",
    "        super(TextMF, self).__init__()\n",
    "        # Model embedding network\n",
    "        self.P = nn.Embedding(num_models, model_embedding_dim)\n",
    "\n",
    "        # Question embedding network\n",
    "        self.Q = nn.Embedding(num_prompts, text_dim).requires_grad_(False)\n",
    "        self.Q.weight.data.copy_(question_embeddings)\n",
    "        self.text_proj = nn.Linear(text_dim, model_embedding_dim)\n",
    "\n",
    "        # Noise/Regularization level\n",
    "        self.alpha = alpha\n",
    "        self.classifier = nn.Linear(model_embedding_dim, num_classes)\n",
    "\n",
    "    def forward(self, model, prompt, test_mode=False):\n",
    "        p = self.P(model)\n",
    "        q = self.Q(prompt)\n",
    "        if not test_mode:\n",
    "            # Adding a small amount of noise in question embedding to reduce overfitting\n",
    "            q += torch.randn_like(q) * self.alpha\n",
    "        q = self.text_proj(q)\n",
    "        return self.classifier(p * q)\n",
    "    \n",
    "    @torch.no_grad()\n",
    "    def predict(self, model, prompt):\n",
    "        logits = self.forward(model, prompt, test_mode=True) # During inference no noise is applied\n",
    "        return torch.argmax(logits, dim=1)\n",
    "    \n",
    "def evaluate(net, test_loader, device):\n",
    "    net.eval()\n",
    "    loss_fn = nn.CrossEntropyLoss(reduction=\"sum\")\n",
    "    total_loss = 0\n",
    "    correct = 0\n",
    "    num_samples = 0\n",
    "\n",
    "    with torch.no_grad():\n",
    "        for models, prompts, labels in test_loader:\n",
    "            models, prompts, labels = models.to(device), prompts.to(device), labels.to(device)\n",
    "            logits = net(models, prompts)\n",
    "            loss = loss_fn(logits, labels)\n",
    "            pred_labels = net.predict(models, prompts)\n",
    "            correct += (pred_labels == labels).sum().item()\n",
    "            total_loss += loss.item()\n",
    "            num_samples += labels.shape[0]\n",
    "\n",
    "    mean_loss = total_loss / num_samples\n",
    "    accuracy = correct / num_samples\n",
    "    net.train()\n",
    "    return mean_loss, accuracy\n",
    "\n",
    "# Main training loop\n",
    "def train(net, train_loader, test_loader, num_epochs, lr, device, weight_decay=1e-5, save_path=None):\n",
    "    optimizer = Adam(net.parameters(), lr=lr, weight_decay=weight_decay)\n",
    "    loss_fn = nn.CrossEntropyLoss()\n",
    "    progress_bar = tqdm(total=num_epochs)\n",
    "\n",
    "    for epoch in range(num_epochs):\n",
    "        net.train()\n",
    "        total_loss = 0\n",
    "        for models, prompts, labels in train_loader:\n",
    "            models, prompts, labels = models.to(device), prompts.to(device), labels.to(device)\n",
    "\n",
    "            optimizer.zero_grad()\n",
    "            logits = net(models, prompts)\n",
    "            loss = loss_fn(logits, labels)\n",
    "            loss.backward()\n",
    "            optimizer.step()\n",
    "\n",
    "            total_loss += loss.item()\n",
    "        train_loss = total_loss / len(train_loader)\n",
    "        print(f\"Epoch {epoch + 1}/{num_epochs}, Train Loss: {train_loss}\")\n",
    "\n",
    "        test_loss, test_accuracy = evaluate(net, test_loader, device)\n",
    "        print(f\"Test Loss: {test_loss}, Test Accuracy: {test_accuracy}\")\n",
    "\n",
    "        progress_bar.set_postfix(train_loss=train_loss, test_loss=test_loss, test_acc=test_accuracy)\n",
    "        progress_bar.update(1)\n",
    "    \n",
    "    if save_path:\n",
    "        torch.save(net.state_dict(), save_path)\n",
    "        print(f\"Model saved to {save_path}\")\n",
    "\n",
    "def load_model(net, path, device):\n",
    "    net.load_state_dict(torch.load(path, map_location=device))\n",
    "    print(f\"Model loaded from {path}\")\n",
    "\n",
    "\n",
    "if __name__ == \"__main__\":\n",
    "    parser = argparse.ArgumentParser()\n",
    "    parser.add_argument(\"--embedding_dim\", type=int, default=232)\n",
    "    parser.add_argument(\"--alpha\", type=float, default=0.05)\n",
    "    parser.add_argument(\"--batch_size\", type=int, default=2048)\n",
    "    parser.add_argument(\"--num_epochs\", type=int, default=50)\n",
    "    parser.add_argument(\"--learning_rate\", type=float, default=1e-4)\n",
    "\n",
    "    parser.add_argument(\"--train_data_path\", type=str, default=\"data/train.csv\")\n",
    "    parser.add_argument(\"--test_data_path\", type=str, default=\"data/test.csv\")\n",
    "    parser.add_argument(\"--question_embedding_path\", type=str, default=\"data/question_embeddings.pth\")\n",
    "\n",
    "    parser.add_argument(\"--embedding_save_path\", type=str, default=\"data/model_embeddings.pth\")\n",
    "    parser.add_argument(\"--model_save_path\", type=str, default=\"data/saved_model.pth\")\n",
    "    parser.add_argument(\"--model_load_path\", type=str, default=None)\n",
    "    args, unknown = parser.parse_known_args()\n",
    "\n",
    "    print(\"Loading dataset...\")\n",
    "    train_data = pd.read_csv(args.train_data_path)\n",
    "    test_data = pd.read_csv(args.test_data_path)\n",
    "    question_embeddings = torch.load(args.question_embedding_path)\n",
    "    num_prompts = question_embeddings.shape[0]\n",
    "    num_models = len(test_data[\"model_id\"].unique())\n",
    "    model_names = list(np.unique(list(test_data[\"model_name\"])))\n",
    "\n",
    "    train_loader, test_loader = load_and_process_data(train_data, test_data, batch_size=args.batch_size)\n",
    "    device = torch.device(\"cuda\" if torch.cuda.is_available() else \"cpu\")\n",
    "\n",
    "    print(\"Initializing model...\")\n",
    "    model = TextMF(question_embeddings=question_embeddings, \n",
    "                   model_embedding_dim=args.embedding_dim, alpha=args.alpha,\n",
    "                   num_models=num_models, num_prompts=num_prompts)\n",
    "    model.to(device)\n",
    "\n",
    "    if args.model_load_path:\n",
    "        model.load_state_dict(torch.load(args.model_load_path, map_location=device))\n",
    "        print(f\"Model loaded from {args.model_load_path}\")\n",
    "\n",
    "    print(\"Training model...\")\n",
    "    train(model, train_loader, test_loader, num_epochs=args.num_epochs, lr=args.learning_rate,\n",
    "          device=device, save_path=args.model_save_path)\n",
    "    # torch.save(model.P.weight.detach().to(\"cpu\"), args.embedding_save_path) # Save model embeddings if needed"
   ]
  }
 ],
 "metadata": {
  "kernelspec": {
   "display_name": "base",
   "language": "python",
   "name": "python3"
  },
  "language_info": {
   "codemirror_mode": {
    "name": "ipython",
    "version": 3
   },
   "file_extension": ".py",
   "mimetype": "text/x-python",
   "name": "python",
   "nbconvert_exporter": "python",
   "pygments_lexer": "ipython3",
   "version": "3.12.3"
  }
 },
 "nbformat": 4,
 "nbformat_minor": 2
}
