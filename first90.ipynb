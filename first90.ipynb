{
 "cells": [
  {
   "cell_type": "code",
   "execution_count": 2,
   "metadata": {},
   "outputs": [
    {
     "name": "stdout",
     "output_type": "stream",
     "text": [
      "Loading dataset...\n"
     ]
    },
    {
     "name": "stderr",
     "output_type": "stream",
     "text": [
      "C:\\Users\\21296\\AppData\\Local\\Temp\\ipykernel_88008\\3572028011.py:176: FutureWarning: You are using `torch.load` with `weights_only=False` (the current default value), which uses the default pickle module implicitly. It is possible to construct malicious pickle data which will execute arbitrary code during unpickling (See https://github.com/pytorch/pytorch/blob/main/SECURITY.md#untrusted-models for more details). In a future release, the default value for `weights_only` will be flipped to `True`. This limits the functions that could be executed during unpickling. Arbitrary objects will no longer be allowed to be loaded via this mode unless they are explicitly allowlisted by the user via `torch.serialization.add_safe_globals`. We recommend you start setting `weights_only=True` for any use case where you don't have full control of the loaded file. Please open an issue on GitHub for any issues related to this experimental feature.\n",
      "  question_embeddings = torch.load(args.question_embedding_path)\n"
     ]
    },
    {
     "name": "stdout",
     "output_type": "stream",
     "text": [
      "Initializing model...\n",
      "Training model...\n"
     ]
    },
    {
     "name": "stderr",
     "output_type": "stream",
     "text": [
      "  0%|          | 0/50 [00:00<?, ?it/s]"
     ]
    },
    {
     "name": "stdout",
     "output_type": "stream",
     "text": [
      "Epoch 1/50, Train Loss: 0.6807110990057329\n"
     ]
    },
    {
     "name": "stderr",
     "output_type": "stream",
     "text": [
      "  2%|▏         | 1/50 [01:22<1:07:21, 82.47s/it, test_acc=0.628, test_loss=0.654, train_loss=0.681]"
     ]
    },
    {
     "name": "stdout",
     "output_type": "stream",
     "text": [
      "Test Loss: 0.6544452969152248, Test Accuracy: 0.6278978892412158\n",
      "Epoch 2/50, Train Loss: 0.6504853306090584\n"
     ]
    },
    {
     "name": "stderr",
     "output_type": "stream",
     "text": [
      "  4%|▍         | 2/50 [02:47<1:07:22, 84.21s/it, test_acc=0.648, test_loss=0.633, train_loss=0.65] "
     ]
    },
    {
     "name": "stdout",
     "output_type": "stream",
     "text": [
      "Test Loss: 0.6326087845849073, Test Accuracy: 0.6477435059735435\n",
      "Epoch 3/50, Train Loss: 0.6315780720893112\n"
     ]
    },
    {
     "name": "stderr",
     "output_type": "stream",
     "text": [
      "  6%|▌         | 3/50 [04:48<1:19:00, 100.86s/it, test_acc=0.668, test_loss=0.615, train_loss=0.632]"
     ]
    },
    {
     "name": "stdout",
     "output_type": "stream",
     "text": [
      "Test Loss: 0.614596012873384, Test Accuracy: 0.6680727715319816\n",
      "Epoch 4/50, Train Loss: 0.6152618961905191\n"
     ]
    },
    {
     "name": "stderr",
     "output_type": "stream",
     "text": [
      "  8%|▊         | 4/50 [08:24<1:52:08, 146.26s/it, test_acc=0.683, test_loss=0.6, train_loss=0.615]  "
     ]
    },
    {
     "name": "stdout",
     "output_type": "stream",
     "text": [
      "Test Loss: 0.5996233367846612, Test Accuracy: 0.683440632907338\n",
      "Epoch 5/50, Train Loss: 0.6022179891904673\n"
     ]
    },
    {
     "name": "stderr",
     "output_type": "stream",
     "text": [
      " 10%|█         | 5/50 [12:00<2:08:27, 171.28s/it, test_acc=0.694, test_loss=0.588, train_loss=0.602]"
     ]
    },
    {
     "name": "stdout",
     "output_type": "stream",
     "text": [
      "Test Loss: 0.5879719311161383, Test Accuracy: 0.6937445949841453\n",
      "Epoch 6/50, Train Loss: 0.5922690026845308\n"
     ]
    },
    {
     "name": "stderr",
     "output_type": "stream",
     "text": [
      " 12%|█▏        | 6/50 [15:39<2:17:29, 187.50s/it, test_acc=0.702, test_loss=0.58, train_loss=0.592] "
     ]
    },
    {
     "name": "stdout",
     "output_type": "stream",
     "text": [
      "Test Loss: 0.5798487531585561, Test Accuracy: 0.7022645014573524\n",
      "Epoch 7/50, Train Loss: 0.5850809007116613\n"
     ]
    },
    {
     "name": "stderr",
     "output_type": "stream",
     "text": [
      " 14%|█▍        | 7/50 [19:20<2:22:18, 198.58s/it, test_acc=0.709, test_loss=0.574, train_loss=0.585]"
     ]
    },
    {
     "name": "stdout",
     "output_type": "stream",
     "text": [
      "Test Loss: 0.5738293990338659, Test Accuracy: 0.708692866980558\n",
      "Epoch 8/50, Train Loss: 0.5797644727673623\n"
     ]
    },
    {
     "name": "stderr",
     "output_type": "stream",
     "text": [
      " 16%|█▌        | 8/50 [23:00<2:23:53, 205.56s/it, test_acc=0.714, test_loss=0.569, train_loss=0.58] "
     ]
    },
    {
     "name": "stdout",
     "output_type": "stream",
     "text": [
      "Test Loss: 0.5693673394926116, Test Accuracy: 0.7141827616027674\n",
      "Epoch 9/50, Train Loss: 0.575835395910458\n"
     ]
    },
    {
     "name": "stderr",
     "output_type": "stream",
     "text": [
      " 18%|█▊        | 9/50 [26:42<2:23:47, 210.42s/it, test_acc=0.718, test_loss=0.566, train_loss=0.576]"
     ]
    },
    {
     "name": "stdout",
     "output_type": "stream",
     "text": [
      "Test Loss: 0.5664414430106764, Test Accuracy: 0.7182313186637199\n",
      "Epoch 10/50, Train Loss: 0.572728900971736\n"
     ]
    },
    {
     "name": "stderr",
     "output_type": "stream",
     "text": [
      " 20%|██        | 10/50 [30:22<2:22:23, 213.59s/it, test_acc=0.721, test_loss=0.564, train_loss=0.573]"
     ]
    },
    {
     "name": "stdout",
     "output_type": "stream",
     "text": [
      "Test Loss: 0.5638742909670174, Test Accuracy: 0.7208673649146408\n",
      "Epoch 11/50, Train Loss: 0.5703616764896619\n"
     ]
    },
    {
     "name": "stderr",
     "output_type": "stream",
     "text": [
      " 22%|██▏       | 11/50 [34:03<2:20:16, 215.81s/it, test_acc=0.723, test_loss=0.562, train_loss=0.57] "
     ]
    },
    {
     "name": "stdout",
     "output_type": "stream",
     "text": [
      "Test Loss: 0.561941974828422, Test Accuracy: 0.7230453861183178\n",
      "Epoch 12/50, Train Loss: 0.5688361604918857\n"
     ]
    },
    {
     "name": "stderr",
     "output_type": "stream",
     "text": [
      " 24%|██▍       | 12/50 [37:44<2:17:43, 217.47s/it, test_acc=0.725, test_loss=0.561, train_loss=0.569]"
     ]
    },
    {
     "name": "stdout",
     "output_type": "stream",
     "text": [
      "Test Loss: 0.5608106185821693, Test Accuracy: 0.7245667979885334\n",
      "Epoch 13/50, Train Loss: 0.567524060945393\n"
     ]
    },
    {
     "name": "stderr",
     "output_type": "stream",
     "text": [
      " 26%|██▌       | 13/50 [41:27<2:15:00, 218.93s/it, test_acc=0.726, test_loss=0.56, train_loss=0.568] "
     ]
    },
    {
     "name": "stdout",
     "output_type": "stream",
     "text": [
      "Test Loss: 0.5597873613823002, Test Accuracy: 0.7258640017936645\n",
      "Epoch 14/50, Train Loss: 0.566496181486544\n"
     ]
    },
    {
     "name": "stderr",
     "output_type": "stream",
     "text": [
      " 28%|██▊       | 14/50 [45:08<2:11:51, 219.75s/it, test_acc=0.727, test_loss=0.56, train_loss=0.566]"
     ]
    },
    {
     "name": "stdout",
     "output_type": "stream",
     "text": [
      "Test Loss: 0.5596813886255195, Test Accuracy: 0.7266102943531597\n",
      "Epoch 15/50, Train Loss: 0.5656624946994588\n"
     ]
    },
    {
     "name": "stderr",
     "output_type": "stream",
     "text": [
      " 30%|███       | 15/50 [48:51<2:08:41, 220.62s/it, test_acc=0.727, test_loss=0.558, train_loss=0.566]"
     ]
    },
    {
     "name": "stdout",
     "output_type": "stream",
     "text": [
      "Test Loss: 0.5584514787144345, Test Accuracy: 0.7273565869126549\n",
      "Epoch 16/50, Train Loss: 0.5654482879292073\n"
     ]
    },
    {
     "name": "stderr",
     "output_type": "stream",
     "text": [
      " 32%|███▏      | 16/50 [52:34<2:05:27, 221.39s/it, test_acc=0.728, test_loss=0.558, train_loss=0.565]"
     ]
    },
    {
     "name": "stdout",
     "output_type": "stream",
     "text": [
      "Test Loss: 0.5583079181464774, Test Accuracy: 0.7281541270298837\n",
      "Epoch 17/50, Train Loss: 0.5648581151842434\n"
     ]
    },
    {
     "name": "stderr",
     "output_type": "stream",
     "text": [
      " 34%|███▍      | 17/50 [56:18<2:02:06, 222.01s/it, test_acc=0.728, test_loss=0.558, train_loss=0.565]"
     ]
    },
    {
     "name": "stdout",
     "output_type": "stream",
     "text": [
      "Test Loss: 0.557717568641981, Test Accuracy: 0.7284295826527017\n",
      "Epoch 18/50, Train Loss: 0.5645519622595969\n"
     ]
    },
    {
     "name": "stderr",
     "output_type": "stream",
     "text": [
      " 36%|███▌      | 18/50 [1:00:02<1:58:44, 222.63s/it, test_acc=0.729, test_loss=0.558, train_loss=0.565]"
     ]
    },
    {
     "name": "stdout",
     "output_type": "stream",
     "text": [
      "Test Loss: 0.5578546424284861, Test Accuracy: 0.7288651868934372\n",
      "Epoch 19/50, Train Loss: 0.5641841499175958\n"
     ]
    },
    {
     "name": "stderr",
     "output_type": "stream",
     "text": [
      " 38%|███▊      | 19/50 [1:03:44<1:55:01, 222.62s/it, test_acc=0.729, test_loss=0.557, train_loss=0.564]"
     ]
    },
    {
     "name": "stdout",
     "output_type": "stream",
     "text": [
      "Test Loss: 0.557464870172958, Test Accuracy: 0.729057365234938\n",
      "Epoch 20/50, Train Loss: 0.5638193437430209\n"
     ]
    },
    {
     "name": "stderr",
     "output_type": "stream",
     "text": [
      " 40%|████      | 20/50 [1:07:28<1:51:28, 222.96s/it, test_acc=0.729, test_loss=0.557, train_loss=0.564]"
     ]
    },
    {
     "name": "stdout",
     "output_type": "stream",
     "text": [
      "Test Loss: 0.5571592817040464, Test Accuracy: 0.7294128951667147\n",
      "Epoch 21/50, Train Loss: 0.5637638591299594\n"
     ]
    },
    {
     "name": "stderr",
     "output_type": "stream",
     "text": [
      " 42%|████▏     | 21/50 [1:11:27<1:50:09, 227.90s/it, test_acc=0.73, test_loss=0.557, train_loss=0.564] "
     ]
    },
    {
     "name": "stdout",
     "output_type": "stream",
     "text": [
      "Test Loss: 0.5567995712325726, Test Accuracy: 0.729617885397649\n",
      "Epoch 22/50, Train Loss: 0.5638358660773906\n"
     ]
    },
    {
     "name": "stderr",
     "output_type": "stream",
     "text": [
      " 44%|████▍     | 22/50 [1:15:38<1:49:30, 234.66s/it, test_acc=0.73, test_loss=0.557, train_loss=0.564]"
     ]
    },
    {
     "name": "stdout",
     "output_type": "stream",
     "text": [
      "Test Loss: 0.5566405293057269, Test Accuracy: 0.7298484994074501\n",
      "Epoch 23/50, Train Loss: 0.5632933183469291\n"
     ]
    },
    {
     "name": "stderr",
     "output_type": "stream",
     "text": [
      " 46%|████▌     | 23/50 [1:19:58<1:49:03, 242.36s/it, test_acc=0.73, test_loss=0.556, train_loss=0.563]"
     ]
    },
    {
     "name": "stdout",
     "output_type": "stream",
     "text": [
      "Test Loss: 0.5563967492692594, Test Accuracy: 0.7300118509977259\n",
      "Epoch 24/50, Train Loss: 0.5632681323883528\n"
     ]
    },
    {
     "name": "stderr",
     "output_type": "stream",
     "text": [
      " 48%|████▊     | 24/50 [1:24:30<1:48:47, 251.07s/it, test_acc=0.73, test_loss=0.557, train_loss=0.563]"
     ]
    },
    {
     "name": "stdout",
     "output_type": "stream",
     "text": [
      "Test Loss: 0.5567031293907934, Test Accuracy: 0.7300022420806509\n",
      "Epoch 25/50, Train Loss: 0.5630081539019275\n"
     ]
    },
    {
     "name": "stderr",
     "output_type": "stream",
     "text": [
      " 50%|█████     | 25/50 [1:29:29<1:50:37, 265.52s/it, test_acc=0.73, test_loss=0.557, train_loss=0.563]"
     ]
    },
    {
     "name": "stdout",
     "output_type": "stream",
     "text": [
      "Test Loss: 0.5565068861442481, Test Accuracy: 0.7301271580026264\n",
      "Epoch 26/50, Train Loss: 0.5630562276558909\n"
     ]
    },
    {
     "name": "stderr",
     "output_type": "stream",
     "text": [
      " 52%|█████▏    | 26/50 [1:35:01<1:54:15, 285.63s/it, test_acc=0.73, test_loss=0.557, train_loss=0.563]"
     ]
    },
    {
     "name": "stdout",
     "output_type": "stream",
     "text": [
      "Test Loss: 0.5569067992558031, Test Accuracy: 0.7303033214823356\n",
      "Epoch 27/50, Train Loss: 0.5630477965326013\n"
     ]
    },
    {
     "name": "stderr",
     "output_type": "stream",
     "text": [
      " 54%|█████▍    | 27/50 [1:40:22<1:53:34, 296.27s/it, test_acc=0.73, test_loss=0.557, train_loss=0.563]"
     ]
    },
    {
     "name": "stdout",
     "output_type": "stream",
     "text": [
      "Test Loss: 0.5568529366736706, Test Accuracy: 0.7303994106530861\n",
      "Epoch 28/50, Train Loss: 0.5629619428354179\n"
     ]
    },
    {
     "name": "stderr",
     "output_type": "stream",
     "text": [
      " 56%|█████▌    | 28/50 [1:45:49<1:51:56, 305.30s/it, test_acc=0.73, test_loss=0.557, train_loss=0.563]"
     ]
    },
    {
     "name": "stdout",
     "output_type": "stream",
     "text": [
      "Test Loss: 0.5565942162099866, Test Accuracy: 0.730389801736011\n",
      "Epoch 29/50, Train Loss: 0.5628376626717543\n"
     ]
    },
    {
     "name": "stderr",
     "output_type": "stream",
     "text": [
      " 58%|█████▊    | 29/50 [1:51:24<1:50:01, 314.34s/it, test_acc=0.73, test_loss=0.557, train_loss=0.563]"
     ]
    },
    {
     "name": "stdout",
     "output_type": "stream",
     "text": [
      "Test Loss: 0.5565483781644679, Test Accuracy: 0.7304154255148778\n",
      "Epoch 30/50, Train Loss: 0.5627488585819821\n"
     ]
    },
    {
     "name": "stderr",
     "output_type": "stream",
     "text": [
      " 60%|██████    | 30/50 [1:56:52<1:46:06, 318.31s/it, test_acc=0.731, test_loss=0.557, train_loss=0.563]"
     ]
    },
    {
     "name": "stdout",
     "output_type": "stream",
     "text": [
      "Test Loss: 0.5565201823698642, Test Accuracy: 0.7306204157458122\n",
      "Epoch 31/50, Train Loss: 0.5625591369653115\n"
     ]
    },
    {
     "name": "stderr",
     "output_type": "stream",
     "text": [
      " 62%|██████▏   | 31/50 [2:02:20<1:41:43, 321.26s/it, test_acc=0.731, test_loss=0.557, train_loss=0.563]"
     ]
    },
    {
     "name": "stdout",
     "output_type": "stream",
     "text": [
      "Test Loss: 0.5567251446451682, Test Accuracy: 0.730729316805996\n",
      "Epoch 32/50, Train Loss: 0.5625625770058764\n"
     ]
    },
    {
     "name": "stderr",
     "output_type": "stream",
     "text": [
      " 64%|██████▍   | 32/50 [2:08:04<1:38:27, 328.22s/it, test_acc=0.731, test_loss=0.556, train_loss=0.563]"
     ]
    },
    {
     "name": "stdout",
     "output_type": "stream",
     "text": [
      "Test Loss: 0.5561183796140944, Test Accuracy: 0.7307453316677877\n",
      "Epoch 33/50, Train Loss: 0.5624753180804177\n"
     ]
    },
    {
     "name": "stderr",
     "output_type": "stream",
     "text": [
      " 66%|██████▌   | 33/50 [2:13:52<1:34:36, 333.93s/it, test_acc=0.731, test_loss=0.556, train_loss=0.562]"
     ]
    },
    {
     "name": "stdout",
     "output_type": "stream",
     "text": [
      "Test Loss: 0.5563099460596308, Test Accuracy: 0.7306940841100541\n",
      "Epoch 34/50, Train Loss: 0.5625047735974401\n"
     ]
    },
    {
     "name": "stderr",
     "output_type": "stream",
     "text": [
      " 68%|██████▊   | 34/50 [2:19:28<1:29:15, 334.73s/it, test_acc=0.731, test_loss=0.556, train_loss=0.563]"
     ]
    },
    {
     "name": "stdout",
     "output_type": "stream",
     "text": [
      "Test Loss: 0.5564064124358967, Test Accuracy: 0.7308574357003299\n",
      "Epoch 35/50, Train Loss: 0.5621841845905773\n"
     ]
    },
    {
     "name": "stderr",
     "output_type": "stream",
     "text": [
      " 70%|███████   | 35/50 [2:25:07<1:23:57, 335.84s/it, test_acc=0.731, test_loss=0.557, train_loss=0.562]"
     ]
    },
    {
     "name": "stdout",
     "output_type": "stream",
     "text": [
      "Test Loss: 0.5565407528264354, Test Accuracy: 0.7309535248710803\n",
      "Epoch 36/50, Train Loss: 0.5623430688887258\n"
     ]
    },
    {
     "name": "stderr",
     "output_type": "stream",
     "text": [
      " 72%|███████▏  | 36/50 [2:31:00<1:19:37, 341.22s/it, test_acc=0.731, test_loss=0.556, train_loss=0.562]"
     ]
    },
    {
     "name": "stdout",
     "output_type": "stream",
     "text": [
      "Test Loss: 0.556368538519371, Test Accuracy: 0.7309150892027801\n",
      "Epoch 37/50, Train Loss: 0.5623356988609992\n"
     ]
    },
    {
     "name": "stderr",
     "output_type": "stream",
     "text": [
      " 74%|███████▍  | 37/50 [2:36:43<1:14:02, 341.71s/it, test_acc=0.731, test_loss=0.556, train_loss=0.562]"
     ]
    },
    {
     "name": "stdout",
     "output_type": "stream",
     "text": [
      "Test Loss: 0.5562099158292333, Test Accuracy: 0.7308830594791967\n",
      "Epoch 38/50, Train Loss: 0.5622418082767753\n"
     ]
    },
    {
     "name": "stderr",
     "output_type": "stream",
     "text": [
      " 76%|███████▌  | 38/50 [2:42:26<1:08:24, 342.08s/it, test_acc=0.731, test_loss=0.556, train_loss=0.562]"
     ]
    },
    {
     "name": "stdout",
     "output_type": "stream",
     "text": [
      "Test Loss: 0.5560800403242959, Test Accuracy: 0.7310079754011722\n",
      "Epoch 39/50, Train Loss: 0.5622603011005866\n"
     ]
    },
    {
     "name": "stderr",
     "output_type": "stream",
     "text": [
      " 78%|███████▊  | 39/50 [2:48:08<1:02:42, 342.07s/it, test_acc=0.731, test_loss=0.556, train_loss=0.562]"
     ]
    },
    {
     "name": "stdout",
     "output_type": "stream",
     "text": [
      "Test Loss: 0.5562964686111525, Test Accuracy: 0.7309695397328722\n",
      "Epoch 40/50, Train Loss: 0.5622362530775961\n"
     ]
    },
    {
     "name": "stderr",
     "output_type": "stream",
     "text": [
      " 80%|████████  | 40/50 [2:53:53<57:10, 343.01s/it, test_acc=0.731, test_loss=0.557, train_loss=0.562]  "
     ]
    },
    {
     "name": "stdout",
     "output_type": "stream",
     "text": [
      "Test Loss: 0.5567399949496883, Test Accuracy: 0.7311072675442811\n",
      "Epoch 41/50, Train Loss: 0.5624198709815521\n"
     ]
    },
    {
     "name": "stderr",
     "output_type": "stream",
     "text": [
      " 82%|████████▏ | 41/50 [2:59:36<51:26, 342.94s/it, test_acc=0.731, test_loss=0.556, train_loss=0.562]"
     ]
    },
    {
     "name": "stdout",
     "output_type": "stream",
     "text": [
      "Test Loss: 0.556025513356082, Test Accuracy: 0.7311200794337145\n",
      "Epoch 42/50, Train Loss: 0.5623677641616197\n"
     ]
    },
    {
     "name": "stderr",
     "output_type": "stream",
     "text": [
      " 84%|████████▍ | 42/50 [3:05:21<45:48, 343.60s/it, test_acc=0.731, test_loss=0.557, train_loss=0.562]"
     ]
    },
    {
     "name": "stdout",
     "output_type": "stream",
     "text": [
      "Test Loss: 0.5566726987097151, Test Accuracy: 0.7311328913231478\n",
      "Epoch 43/50, Train Loss: 0.5621560989650751\n"
     ]
    },
    {
     "name": "stderr",
     "output_type": "stream",
     "text": [
      " 86%|████████▌ | 43/50 [3:11:11<40:18, 345.43s/it, test_acc=0.731, test_loss=0.556, train_loss=0.562]"
     ]
    },
    {
     "name": "stdout",
     "output_type": "stream",
     "text": [
      "Test Loss: 0.5562287329985977, Test Accuracy: 0.7311008615995644\n",
      "Epoch 44/50, Train Loss: 0.5622403922434163\n"
     ]
    },
    {
     "name": "stderr",
     "output_type": "stream",
     "text": [
      " 88%|████████▊ | 44/50 [3:17:07<34:50, 348.45s/it, test_acc=0.731, test_loss=0.556, train_loss=0.562]"
     ]
    },
    {
     "name": "stdout",
     "output_type": "stream",
     "text": [
      "Test Loss: 0.5558239844427191, Test Accuracy: 0.7310496140418308\n",
      "Epoch 45/50, Train Loss: 0.5621033234916174\n"
     ]
    },
    {
     "name": "stderr",
     "output_type": "stream",
     "text": [
      " 90%|█████████ | 45/50 [3:23:18<29:36, 355.37s/it, test_acc=0.731, test_loss=0.556, train_loss=0.562]"
     ]
    },
    {
     "name": "stdout",
     "output_type": "stream",
     "text": [
      "Test Loss: 0.556477982759407, Test Accuracy: 0.7311328913231478\n",
      "Epoch 46/50, Train Loss: 0.5621574140672057\n"
     ]
    },
    {
     "name": "stderr",
     "output_type": "stream",
     "text": [
      " 92%|█████████▏| 46/50 [3:29:26<23:56, 359.14s/it, test_acc=0.731, test_loss=0.556, train_loss=0.562]"
     ]
    },
    {
     "name": "stdout",
     "output_type": "stream",
     "text": [
      "Test Loss: 0.5561946300620101, Test Accuracy: 0.7311136734889978\n",
      "Epoch 47/50, Train Loss: 0.5621021206931783\n"
     ]
    },
    {
     "name": "stderr",
     "output_type": "stream",
     "text": [
      " 94%|█████████▍| 47/50 [3:35:24<17:56, 358.80s/it, test_acc=0.731, test_loss=0.556, train_loss=0.562]"
     ]
    },
    {
     "name": "stdout",
     "output_type": "stream",
     "text": [
      "Test Loss: 0.556087314457504, Test Accuracy: 0.731152109157298\n",
      "Epoch 48/50, Train Loss: 0.5621113390073867\n"
     ]
    },
    {
     "name": "stderr",
     "output_type": "stream",
     "text": [
      " 96%|█████████▌| 48/50 [3:41:22<11:57, 358.60s/it, test_acc=0.731, test_loss=0.557, train_loss=0.562]"
     ]
    },
    {
     "name": "stdout",
     "output_type": "stream",
     "text": [
      "Test Loss: 0.5569461842425708, Test Accuracy: 0.7312578072451235\n",
      "Epoch 49/50, Train Loss: 0.5619463625033657\n"
     ]
    },
    {
     "name": "stderr",
     "output_type": "stream",
     "text": [
      " 98%|█████████▊| 49/50 [3:47:18<05:57, 357.77s/it, test_acc=0.731, test_loss=0.556, train_loss=0.562]"
     ]
    },
    {
     "name": "stdout",
     "output_type": "stream",
     "text": [
      "Test Loss: 0.5562493885927703, Test Accuracy: 0.7311296883507895\n",
      "Epoch 50/50, Train Loss: 0.5618920626545557\n"
     ]
    },
    {
     "name": "stderr",
     "output_type": "stream",
     "text": [
      "100%|██████████| 50/50 [3:53:15<00:00, 357.41s/it, test_acc=0.731, test_loss=0.556, train_loss=0.562]"
     ]
    },
    {
     "name": "stdout",
     "output_type": "stream",
     "text": [
      "Test Loss: 0.5562164059340818, Test Accuracy: 0.7312353864386151\n"
     ]
    },
    {
     "name": "stderr",
     "output_type": "stream",
     "text": [
      "100%|██████████| 50/50 [3:53:15<00:00, 279.91s/it, test_acc=0.731, test_loss=0.556, train_loss=0.562]"
     ]
    },
    {
     "name": "stdout",
     "output_type": "stream",
     "text": [
      "Model saved to data/model_with_fir90.pth\n"
     ]
    },
    {
     "name": "stderr",
     "output_type": "stream",
     "text": [
      "\n"
     ]
    }
   ],
   "source": [
    "import argparse\n",
    "import random\n",
    "import torch\n",
    "import pandas as pd\n",
    "import numpy as np\n",
    "from torch import nn\n",
    "from torch.utils.data import DataLoader, Dataset, TensorDataset\n",
    "from torch.optim import Adam\n",
    "from tqdm import tqdm\n",
    "\n",
    "# Set seeds for reproducibility\n",
    "torch.manual_seed(42)\n",
    "np.random.seed(42)\n",
    "random.seed(42)\n",
    "\n",
    "# Helper functions to load and process the data into desired format needed for MF\n",
    "# For MF we need a \"model ID\" either in the form of name or index and so we use the tabular data instead of tensors\n",
    "def load_and_process_data(train_data, test_data, batch_size=64 , num_model_use = 112):\n",
    "    # NOTE: Due to the nature of the embedding layer we need to take max prompt ID from both train and test data\n",
    "    # But during training we won't be using test question\n",
    "    num_prompts = int(max(max(train_data[\"prompt_id\"]), max(test_data[\"prompt_id\"]))) + 1\n",
    "\n",
    "    model_ids = test_data[\"model_id\"].unique()\n",
    "    selected_model_ids = model_ids[:num_model_use]\n",
    "\n",
    "    train_data = train_data[train_data[\"model_id\"].isin(selected_model_ids)]\n",
    "    test_data = test_data[test_data[\"model_id\"].isin(selected_model_ids)]\n",
    "\n",
    "    class CustomDataset(Dataset):\n",
    "        def __init__(self, data):\n",
    "            model_ids = torch.tensor(data[\"model_id\"], dtype=torch.int64)\n",
    "            unique_ids, inverse_indices = torch.unique(model_ids, sorted=True, return_inverse=True)\n",
    "            id_to_rank = {id.item(): rank for rank, id in enumerate(unique_ids)}\n",
    "            ranked_model_ids = torch.tensor([id_to_rank[id.item()] for id in model_ids])\n",
    "            self.models = ranked_model_ids\n",
    "            self.prompts = torch.tensor(data[\"prompt_id\"], dtype=torch.int64)\n",
    "            self.labels = torch.tensor(data[\"label\"], dtype=torch.int64)\n",
    "            self.num_models = len(data[\"model_id\"].unique())\n",
    "            self.num_prompts = num_prompts\n",
    "            self.num_classes = len(data[\"label\"].unique())\n",
    "\n",
    "        def get_num_models(self):\n",
    "            return self.num_models\n",
    "\n",
    "        def get_num_prompts(self):\n",
    "            return self.num_prompts\n",
    "\n",
    "        def get_num_classes(self):\n",
    "            return self.num_classes\n",
    "\n",
    "        def __len__(self):\n",
    "            return len(self.models)\n",
    "\n",
    "        def __getitem__(self, index):\n",
    "            return self.models[index], self.prompts[index], self.labels[index]\n",
    "\n",
    "        def get_dataloaders(self, batch_size):\n",
    "            return DataLoader(self, batch_size, shuffle=False)\n",
    "\n",
    "    train_dataset = CustomDataset(train_data)\n",
    "    test_dataset = CustomDataset(test_data)\n",
    "\n",
    "    train_loader = train_dataset.get_dataloaders(batch_size)\n",
    "    test_loader = test_dataset.get_dataloaders(batch_size)\n",
    "\n",
    "    return train_loader, test_loader\n",
    "\n",
    "class TextMF(nn.Module):\n",
    "    def __init__(self, question_embeddings, model_embedding_dim, alpha, num_models, num_prompts, text_dim=768, num_classes=2):\n",
    "        super(TextMF, self).__init__()\n",
    "        # Model embedding network\n",
    "        self.P = nn.Embedding(num_models, model_embedding_dim)\n",
    "\n",
    "        # Question embedding network\n",
    "        self.Q = nn.Embedding(num_prompts, text_dim).requires_grad_(False)\n",
    "        self.Q.weight.data.copy_(question_embeddings)\n",
    "        self.text_proj = nn.Linear(text_dim, model_embedding_dim)\n",
    "\n",
    "        # Noise/Regularization level\n",
    "        self.alpha = alpha\n",
    "        self.classifier = nn.Linear(model_embedding_dim, num_classes)\n",
    "\n",
    "    def forward(self, model, prompt, test_mode=False):\n",
    "        p = self.P(model)\n",
    "        q = self.Q(prompt)\n",
    "        if not test_mode:\n",
    "            # Adding a small amount of noise in question embedding to reduce overfitting\n",
    "            q += torch.randn_like(q) * self.alpha\n",
    "        q = self.text_proj(q)\n",
    "        return self.classifier(p * q)\n",
    "    \n",
    "    @torch.no_grad()\n",
    "    def predict(self, model, prompt):\n",
    "        logits = self.forward(model, prompt, test_mode=True) # During inference no noise is applied\n",
    "        return torch.argmax(logits, dim=1)\n",
    "    \n",
    "def evaluate(net, test_loader, device):\n",
    "    net.eval()\n",
    "    loss_fn = nn.CrossEntropyLoss(reduction=\"sum\")\n",
    "    total_loss = 0\n",
    "    correct = 0\n",
    "    num_samples = 0\n",
    "\n",
    "    with torch.no_grad():\n",
    "        for models, prompts, labels in test_loader:\n",
    "            models, prompts, labels = models.to(device), prompts.to(device), labels.to(device)\n",
    "            logits = net(models, prompts)\n",
    "            loss = loss_fn(logits, labels)\n",
    "            pred_labels = net.predict(models, prompts)\n",
    "            correct += (pred_labels == labels).sum().item()\n",
    "            total_loss += loss.item()\n",
    "            num_samples += labels.shape[0]\n",
    "\n",
    "    mean_loss = total_loss / num_samples\n",
    "    accuracy = correct / num_samples\n",
    "    net.train()\n",
    "    return mean_loss, accuracy\n",
    "\n",
    "# Main training loop\n",
    "def train(net, train_loader, test_loader, num_epochs, lr, device, weight_decay=1e-5, save_path=None):\n",
    "    optimizer = Adam(net.parameters(), lr=lr, weight_decay=weight_decay)\n",
    "    loss_fn = nn.CrossEntropyLoss()\n",
    "    progress_bar = tqdm(total=num_epochs)\n",
    "\n",
    "    for epoch in range(num_epochs):\n",
    "        net.train()\n",
    "        total_loss = 0\n",
    "        for models, prompts, labels in train_loader:\n",
    "            models, prompts, labels = models.to(device), prompts.to(device), labels.to(device)\n",
    "\n",
    "            optimizer.zero_grad()\n",
    "            logits = net(models, prompts)\n",
    "            loss = loss_fn(logits, labels)\n",
    "            loss.backward()\n",
    "            optimizer.step()\n",
    "\n",
    "            total_loss += loss.item()\n",
    "        train_loss = total_loss / len(train_loader)\n",
    "        print(f\"Epoch {epoch + 1}/{num_epochs}, Train Loss: {train_loss}\")\n",
    "\n",
    "        test_loss, test_accuracy = evaluate(net, test_loader, device)\n",
    "        print(f\"Test Loss: {test_loss}, Test Accuracy: {test_accuracy}\")\n",
    "\n",
    "        progress_bar.set_postfix(train_loss=train_loss, test_loss=test_loss, test_acc=test_accuracy)\n",
    "        progress_bar.update(1)\n",
    "    \n",
    "    if save_path:\n",
    "        torch.save(net.state_dict(), save_path)\n",
    "        print(f\"Model saved to {save_path}\")\n",
    "\n",
    "def load_model(net, path, device):\n",
    "    net.load_state_dict(torch.load(path, map_location=device))\n",
    "    print(f\"Model loaded from {path}\")\n",
    "\n",
    "\n",
    "if __name__ == \"__main__\":\n",
    "    parser = argparse.ArgumentParser()\n",
    "    parser.add_argument(\"--embedding_dim\", type=int, default=232)\n",
    "    parser.add_argument(\"--alpha\", type=float, default=0.05)\n",
    "    parser.add_argument(\"--batch_size\", type=int, default=2048)\n",
    "    parser.add_argument(\"--num_epochs\", type=int, default=50)\n",
    "    parser.add_argument(\"--learning_rate\", type=float, default=1e-4)\n",
    "\n",
    "    parser.add_argument(\"--train_data_path\", type=str, default=\"data/train.csv\")\n",
    "    parser.add_argument(\"--test_data_path\", type=str, default=\"data/test.csv\")\n",
    "    parser.add_argument(\"--question_embedding_path\", type=str, default=\"data/question_embeddings.pth\")\n",
    "\n",
    "    parser.add_argument(\"--embedding_save_path\", type=str, default=\"data/model_embeddings.pth\")\n",
    "    parser.add_argument(\"--model_save_path\", type=str, default=\"data/model_with_fir90.pth\")\n",
    "    parser.add_argument(\"--model_load_path\", type=str, default=None)\n",
    "    args,unknown = parser.parse_known_args()\n",
    "\n",
    "    print(\"Loading dataset...\")\n",
    "    train_data = pd.read_csv(args.train_data_path)\n",
    "    test_data = pd.read_csv(args.test_data_path)\n",
    "    question_embeddings = torch.load(args.question_embedding_path)\n",
    "    num_prompts = question_embeddings.shape[0]\n",
    "    num_models = len(test_data[\"model_id\"].unique())\n",
    "    model_names = list(np.unique(list(test_data[\"model_name\"])))\n",
    "\n",
    "    train_loader, test_loader = load_and_process_data(train_data, test_data, batch_size=args.batch_size , num_model_use=90)\n",
    "    device = torch.device(\"cuda\" if torch.cuda.is_available() else \"cpu\")\n",
    "\n",
    "    print(\"Initializing model...\")\n",
    "    model = TextMF(question_embeddings=question_embeddings, \n",
    "                   model_embedding_dim=args.embedding_dim, alpha=args.alpha,\n",
    "                   num_models=num_models, num_prompts=num_prompts)\n",
    "    model.to(device)\n",
    "\n",
    "    if args.model_load_path:\n",
    "        model.load_state_dict(torch.load(args.model_load_path, map_location=device))\n",
    "        print(f\"Model loaded from {args.model_load_path}\")\n",
    "\n",
    "    print(\"Training model...\")\n",
    "    train(model, train_loader, test_loader, num_epochs=args.num_epochs, lr=args.learning_rate,\n",
    "          device=device, save_path=args.model_save_path)\n",
    "    # torch.save(model.P.weight.detach().to(\"cpu\"), args.embedding_save_path) # Save model embeddings if needed"
   ]
  }
 ],
 "metadata": {
  "kernelspec": {
   "display_name": "base",
   "language": "python",
   "name": "python3"
  },
  "language_info": {
   "codemirror_mode": {
    "name": "ipython",
    "version": 3
   },
   "file_extension": ".py",
   "mimetype": "text/x-python",
   "name": "python",
   "nbconvert_exporter": "python",
   "pygments_lexer": "ipython3",
   "version": "3.12.3"
  }
 },
 "nbformat": 4,
 "nbformat_minor": 2
}
